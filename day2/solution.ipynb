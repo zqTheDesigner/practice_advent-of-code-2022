{
 "cells": [
  {
   "cell_type": "code",
   "execution_count": 1,
   "metadata": {},
   "outputs": [
    {
     "name": "stdout",
     "output_type": "stream",
     "text": [
      "13675\n"
     ]
    }
   ],
   "source": [
    "\n",
    "score_pairs = {\n",
    "\t\"A\": {\"X\":3, \"Y\":6, \"Z\":0},\n",
    "\t\"B\": {\"X\":0, \"Y\":3, \"Z\":6},\n",
    "\t\"C\": {\"X\":6, \"Y\":0, \"Z\":3}\n",
    "}\n",
    "\n",
    "initial_score = {\"X\": 1, \"Y\": 2, \"Z\": 3}\n",
    "\n",
    "total_score = 0\n",
    "\n",
    "with open('./input.txt') as f:\n",
    "\twhile True:\n",
    "\t\tline = f.readline()\n",
    "\t\tif (line == ''):\n",
    "\t\t\tbreak\n",
    "\t\tarr = line.replace('\\n','').split(' ')\n",
    "\t\telf = arr[0]\n",
    "\t\tme = arr[1]\n",
    "\t\tscore = score_pairs[elf][me] + initial_score[me]\n",
    "\t\ttotal_score += score\n",
    "\n",
    "print(total_score)\n",
    "\n"
   ]
  },
  {
   "cell_type": "code",
   "execution_count": 2,
   "metadata": {},
   "outputs": [
    {
     "name": "stdout",
     "output_type": "stream",
     "text": [
      "14184\n"
     ]
    }
   ],
   "source": [
    "score_pairs =  {\"X\": 0, \"Y\": 3, \"Z\": 6}\n",
    "\n",
    "initial_scores = {\"A\": 1, \"B\": 2, \"C\": 3}\n",
    "\n",
    "strategy = {\n",
    "\t\"A\":{\"X\":\"C\", \"Y\":\"A\", \"Z\":\"B\"}, # Rock\n",
    "\t\"B\":{\"X\":\"A\", \"Y\":\"B\", \"Z\":\"C\"}, # Paper\n",
    "\t\"C\":{\"X\":\"B\", \"Y\":\"C\", \"Z\":\"A\"}  # Scissors\n",
    "}\n",
    "\n",
    "total_score = 0\n",
    "\n",
    "with open('./input.txt') as f:\n",
    "\twhile True:\n",
    "\t\tline = f.readline()\n",
    "\t\tif (line == ''):\n",
    "\t\t\tbreak\n",
    "\t\tarr = line.replace('\\n','').split(' ')\n",
    "\t\telf = arr[0]\n",
    "\t\tres = arr[1]\n",
    "\t\tme = strategy[elf][res]\n",
    "\n",
    "\t\tscore = score_pairs[res] + initial_scores[me]\n",
    "\t\ttotal_score += score\n",
    "\n",
    "print(total_score)\n"
   ]
  }
 ],
 "metadata": {
  "kernelspec": {
   "display_name": "Python 3.10.6 64-bit",
   "language": "python",
   "name": "python3"
  },
  "language_info": {
   "codemirror_mode": {
    "name": "ipython",
    "version": 3
   },
   "file_extension": ".py",
   "mimetype": "text/x-python",
   "name": "python",
   "nbconvert_exporter": "python",
   "pygments_lexer": "ipython3",
   "version": "3.10.6"
  },
  "orig_nbformat": 4,
  "vscode": {
   "interpreter": {
    "hash": "31f2aee4e71d21fbe5cf8b01ff0e069b9275f58929596ceb00d14d90e3e16cd6"
   }
  }
 },
 "nbformat": 4,
 "nbformat_minor": 2
}
