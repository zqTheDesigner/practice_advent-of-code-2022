{
 "cells": [
  {
   "cell_type": "code",
   "execution_count": 34,
   "metadata": {},
   "outputs": [
    {
     "name": "stdout",
     "output_type": "stream",
     "text": [
      "[['F', 'D', 'B', 'Z', 'T', 'J', 'R', 'N'],\n",
      " ['R', 'S', 'N', 'J', 'H'],\n",
      " ['C', 'R', 'N', 'J', 'G', 'Z', 'F', 'Q'],\n",
      " ['F', 'V', 'N', 'G', 'R', 'T', 'Q'],\n",
      " ['L', 'T', 'Q', 'F'],\n",
      " ['Q', 'C', 'W', 'Z', 'B', 'R', 'G', 'N'],\n",
      " ['F', 'C', 'L', 'S', 'N', 'H', 'M'],\n",
      " ['D', 'N', 'Q', 'M', 'T', 'J'],\n",
      " ['P', 'G', 'S']]\n",
      "R\n"
     ]
    }
   ],
   "source": [
    "import re\n",
    "import pprint\n",
    "\n",
    "pattern = re.compile('\\n')\n",
    "\n",
    "temp_stacks = None\n",
    "stacks = []\n",
    "\n",
    "with open('./input_stacks.txt') as i_stacks:\n",
    "\t\n",
    "\twhile True:\n",
    "\t\tl = i_stacks.readline().replace('\\n','')\n",
    "\t\tif l == \"\" : break\n",
    "\n",
    "\t\t# Initialize temp_stacks as array in the provided shape\n",
    "\t\tif temp_stacks is None:\n",
    "\t\t\ttemp_stacks = [[v] for v in list(l)]\n",
    "\t\telse:\n",
    "\t\t\t# iterate through each line as an array of characters\n",
    "\t\t\tfor i, v in enumerate(list(l)):\n",
    "\t\t\t\ttry:\n",
    "\t\t\t\t\t# If reached the end of row, the string value is actually the number\n",
    "\t\t\t\t\t# store the reversed order of none empty value to a new matrix - stacks\n",
    "\t\t\t\t\tint(v)\n",
    "\t\t\t\t\tstacks.append([v for v in temp_stacks[i] if v != ' '][::-1])\n",
    "\n",
    "\t\t\t\t# Store each value in the row to matrix columns, so can locate the item later by index\n",
    "\t\t\t\texcept Exception as e:\n",
    "\t\t\t\t\t# print(e)\n",
    "\t\t\t\t\ttemp_stacks[i].append(v)\n",
    "\t\t\t\t\tpass\n",
    "\t\t\t\t\t\n",
    "\n",
    "pprint.pprint(stacks)\n",
    "\n",
    "# Stacks now can be accessed by stacks[column][row]\n",
    "# print(stacks[1][0])\n"
   ]
  },
  {
   "cell_type": "code",
   "execution_count": null,
   "metadata": {},
   "outputs": [],
   "source": []
  }
 ],
 "metadata": {
  "kernelspec": {
   "display_name": "Python 3.10.6 64-bit",
   "language": "python",
   "name": "python3"
  },
  "language_info": {
   "codemirror_mode": {
    "name": "ipython",
    "version": 3
   },
   "file_extension": ".py",
   "mimetype": "text/x-python",
   "name": "python",
   "nbconvert_exporter": "python",
   "pygments_lexer": "ipython3",
   "version": "3.10.6"
  },
  "orig_nbformat": 4,
  "vscode": {
   "interpreter": {
    "hash": "31f2aee4e71d21fbe5cf8b01ff0e069b9275f58929596ceb00d14d90e3e16cd6"
   }
  }
 },
 "nbformat": 4,
 "nbformat_minor": 2
}
