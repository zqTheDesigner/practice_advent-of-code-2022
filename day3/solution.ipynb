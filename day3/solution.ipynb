{
 "cells": [
  {
   "cell_type": "code",
   "execution_count": 85,
   "metadata": {},
   "outputs": [
    {
     "data": {
      "text/plain": [
       "1"
      ]
     },
     "execution_count": 85,
     "metadata": {},
     "output_type": "execute_result"
    }
   ],
   "source": [
    "# Find the lower case priority\n",
    "ord('a') - 96"
   ]
  },
  {
   "cell_type": "code",
   "execution_count": 86,
   "metadata": {},
   "outputs": [
    {
     "data": {
      "text/plain": [
       "27"
      ]
     },
     "execution_count": 86,
     "metadata": {},
     "output_type": "execute_result"
    }
   ],
   "source": [
    "# Find the upper case priority\n",
    "ord(\"A\") - 38"
   ]
  },
  {
   "cell_type": "code",
   "execution_count": 87,
   "metadata": {},
   "outputs": [],
   "source": [
    "def calc_priority(character=''):\n",
    "\tfactor = 96 # ord('a') - 96 = 1\n",
    "\tif character.isupper():\n",
    "\t\tfactor = 38 # ord('A') - 38 = 27\n",
    "\n",
    "\treturn ord(character) - factor"
   ]
  },
  {
   "cell_type": "code",
   "execution_count": 89,
   "metadata": {},
   "outputs": [
    {
     "name": "stdout",
     "output_type": "stream",
     "text": [
      "7817\n"
     ]
    }
   ],
   "source": [
    "priority_sum = 0\n",
    "\n",
    "with open('./input.txt') as input:\n",
    "\twhile True:\n",
    "\t\ti = input.readline()\n",
    "\t\tif i == '': break # End of file escape\n",
    "\n",
    "\t\ti = i.replace('\\n', '')\n",
    "\t\t\n",
    "\t\tl = len(i)\n",
    "\t\tleft = i[:int(l/2)]\n",
    "\t\tright = i[int(l/2):]\n",
    "\n",
    "\t\t# Loop through array and find the common letter\n",
    "\t\tfor e in left:\n",
    "\t\t\tif e in right:\n",
    "\t\t\t\tpriority_sum += calc_priority(e)\n",
    "\n",
    "\t\t\t\t# Made an mistake here - the break case for this loop\n",
    "\t\t\t\t# is important. Because if there are more than 1 letter\n",
    "\t\t\t\t# duplicated in both sides, the priority counting may\n",
    "\t\t\t\t# duplicated.\n",
    "\t\t\t\t\n",
    "\t\t\t\tbreak\n",
    "\n",
    "print(priority_sum)"
   ]
  },
  {
   "cell_type": "code",
   "execution_count": 92,
   "metadata": {},
   "outputs": [
    {
     "name": "stdout",
     "output_type": "stream",
     "text": [
      "2444\n"
     ]
    }
   ],
   "source": [
    "priority_sum = 0\n",
    "\n",
    "with open('./input.txt') as input:\n",
    "\twhile True:\n",
    "\t\tgroup = []\n",
    "\t\tfor i in range(3):\n",
    "\t\t\tgroup.append(input.readline().replace('\\n', ''))\n",
    "\n",
    "\t\tif '' in group : break # End of file break case\n",
    "\n",
    "\t\tfor member in group[0]:\n",
    "\t\t\tif member in group[1] and member in group[2]:\n",
    "\t\t\t\tpriority_sum += calc_priority(member)\n",
    "\t\t\t\tbreak\n",
    "\n",
    "print(priority_sum)\n",
    "\n"
   ]
  }
 ],
 "metadata": {
  "kernelspec": {
   "display_name": "Python 3.10.6 64-bit",
   "language": "python",
   "name": "python3"
  },
  "language_info": {
   "codemirror_mode": {
    "name": "ipython",
    "version": 3
   },
   "file_extension": ".py",
   "mimetype": "text/x-python",
   "name": "python",
   "nbconvert_exporter": "python",
   "pygments_lexer": "ipython3",
   "version": "3.10.6"
  },
  "orig_nbformat": 4,
  "vscode": {
   "interpreter": {
    "hash": "31f2aee4e71d21fbe5cf8b01ff0e069b9275f58929596ceb00d14d90e3e16cd6"
   }
  }
 },
 "nbformat": 4,
 "nbformat_minor": 2
}
