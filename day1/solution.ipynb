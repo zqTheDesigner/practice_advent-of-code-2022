{
 "cells": [
  {
   "cell_type": "code",
   "execution_count": 2,
   "metadata": {},
   "outputs": [
    {
     "name": "stdout",
     "output_type": "stream",
     "text": [
      "72602.0\n"
     ]
    }
   ],
   "source": [
    "highest = 0.0\n",
    "counter = 0.0\n",
    "\n",
    "with open(\"./input.txt\", 'r') as f:\n",
    "\twhile True:\n",
    "\t\tline = f.readline()\n",
    "\t\tif (line == ''):\n",
    "\t\t\tbreak\n",
    "\t\telif (line == '\\n'):\n",
    "\t\t\thighest = max(highest, counter)\n",
    "\t\t\tcounter = 0.0\n",
    "\t\telse:\n",
    "\t\t\tcounter += float(line)\n",
    "\n",
    "print(highest)\n",
    "\n"
   ]
  },
  {
   "cell_type": "code",
   "execution_count": 3,
   "metadata": {},
   "outputs": [
    {
     "name": "stdout",
     "output_type": "stream",
     "text": [
      "207410\n"
     ]
    }
   ],
   "source": [
    "counter = 0\n",
    "top_three = [0,0,0]\n",
    "\n",
    "with open(\"./input.txt\", 'r') as f:\n",
    "\twhile True:\n",
    "\t\tline = f.readline()\n",
    "\t\tif (line == ''):\n",
    "\t\t\tbreak\n",
    "\t\telif (line == '\\n'):\n",
    "\t\t\ttop_three.append(counter)\n",
    "\t\t\ttop_three.sort(reverse=True)\n",
    "\t\t\ttop_three.pop(3)\n",
    "\t\t\tcounter = 0\n",
    "\t\telse:\n",
    "\t\t\tcounter += int(line)\n",
    "\n",
    "print(sum(top_three))\n"
   ]
  }
 ],
 "metadata": {
  "kernelspec": {
   "display_name": "Python 3.10.6 64-bit",
   "language": "python",
   "name": "python3"
  },
  "language_info": {
   "codemirror_mode": {
    "name": "ipython",
    "version": 3
   },
   "file_extension": ".py",
   "mimetype": "text/x-python",
   "name": "python",
   "nbconvert_exporter": "python",
   "pygments_lexer": "ipython3",
   "version": "3.10.6"
  },
  "orig_nbformat": 4,
  "vscode": {
   "interpreter": {
    "hash": "31f2aee4e71d21fbe5cf8b01ff0e069b9275f58929596ceb00d14d90e3e16cd6"
   }
  }
 },
 "nbformat": 4,
 "nbformat_minor": 2
}
