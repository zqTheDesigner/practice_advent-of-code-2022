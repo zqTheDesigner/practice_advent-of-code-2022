{
 "cells": [
  {
   "cell_type": "code",
   "execution_count": null,
   "metadata": {},
   "outputs": [],
   "source": [
    "import re\n",
    "\n",
    "fully_contains_count = 0\n",
    "\n",
    "pattern = re.compile(\"(\\d+)-(\\d+),(\\d+)-(\\d+)\")\n",
    "\n",
    "with open('./input.txt') as input:\n",
    "\n",
    "\twhile True:\n",
    "\t\ti = input.readline().replace('\\n', '')\n",
    "\t\tif i == '' : break\n",
    "\n",
    "\t\tmatch = pattern.match(i)\n",
    "\n",
    "\t\t# Got error here, I thought the format will be converted to \n",
    "\t\t# int by default when perform >= comapring. But it was compairing\n",
    "\t\t# the lexicographic order of string instread of numerical values\n",
    "\t\t# Asked chatGPT for help and surprisingly it helped me to find out\n",
    "\t\t# the error ... \n",
    "\n",
    "\t\t# Member 1 range\n",
    "\t\tm_1_start = int(match.group(1))\n",
    "\t\tm_1_end = int(match.group(2))\n",
    "\n",
    "\t\t# Member 2 range\n",
    "\t\tm_2_start = int(match.group(3))\n",
    "\t\tm_2_end = int(match.group(4))\n",
    "\n",
    "\t\tif  m_1_start <= m_2_start and m_1_end >= m_2_end:\n",
    "\t\t\tfully_contains_count += 1\n",
    "\t\telif m_1_start >= m_2_start and m_1_end <= m_2_end:\n",
    "\t\t\tfully_contains_count += 1\n",
    "\n",
    "\t\tprint('\\n')\n",
    "\n",
    "print(fully_contains_count)\n",
    "\t\t\n"
   ]
  },
  {
   "cell_type": "code",
   "execution_count": 25,
   "metadata": {},
   "outputs": [
    {
     "name": "stdout",
     "output_type": "stream",
     "text": [
      "895\n"
     ]
    }
   ],
   "source": [
    "import re\n",
    "\n",
    "pattern = re.compile('(\\d+)-(\\d+),(\\d+)-(\\d+)')\n",
    "overlap_pairs = 0\n",
    "\n",
    "with open('./input.txt') as input:\n",
    "\twhile True:\n",
    "\t\ti = input.readline().replace('\\n', '')\n",
    "\t\tif i == '' : break\n",
    "\n",
    "\t\tfind = pattern.search(i)\n",
    "\t\tl_start = int(find.group(1))\n",
    "\t\tl_end = int(find.group(2))\n",
    "\n",
    "\t\tr_start = int(find.group(3))\n",
    "\t\tr_end = int(find.group(4))\n",
    "\n",
    "\t\tl = set(tuple(range(l_start, l_end+1)))\n",
    "\t\tr = set(tuple(range(r_start, r_end+1)))\n",
    "\n",
    "\t\t# print(l, r)\n",
    "\t\t# print(l_start, l_end, r_start, r_end)\n",
    "\t\t# print(len(l.intersection(r)))\n",
    "\t\tif len(l.intersection(r)) > 0 :\n",
    "\t\t\t# print('found overlap\\n')\n",
    "\t\t\toverlap_pairs += 1\n",
    "\n",
    "print(overlap_pairs)\n",
    "\n",
    "\n"
   ]
  }
 ],
 "metadata": {
  "kernelspec": {
   "display_name": "Python 3.10.6 64-bit",
   "language": "python",
   "name": "python3"
  },
  "language_info": {
   "codemirror_mode": {
    "name": "ipython",
    "version": 3
   },
   "file_extension": ".py",
   "mimetype": "text/x-python",
   "name": "python",
   "nbconvert_exporter": "python",
   "pygments_lexer": "ipython3",
   "version": "3.10.6 (main, Nov 14 2022, 16:10:14) [GCC 11.3.0]"
  },
  "orig_nbformat": 4,
  "vscode": {
   "interpreter": {
    "hash": "31f2aee4e71d21fbe5cf8b01ff0e069b9275f58929596ceb00d14d90e3e16cd6"
   }
  }
 },
 "nbformat": 4,
 "nbformat_minor": 2
}
